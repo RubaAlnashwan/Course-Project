{
 "cells": [
  {
   "cell_type": "markdown",
   "metadata": {},
   "source": [
    "# Minimum Viable Product (MVP) Template"
   ]
  },
  {
   "attachments": {
    "footer-logo.png": {
     "image/png": "[encoded data removed]"
    }
   },
   "cell_type": "markdown",
   "metadata": {},
   "source": [
    "![footer-logo.png](attachment:footer-logo.png)"
   ]
  },
  {
   "cell_type": "code",
   "execution_count": 1,
   "metadata": {},
   "outputs": [],
   "source": [
    "import pandas as pd\n",
    "import numpy as np\n",
    "import seaborn as sns\n",
    "import matplotlib.pyplot as plt"
   ]
  },
  {
   "cell_type": "markdown",
   "metadata": {},
   "source": [
    "## Read data"
   ]
  },
  {
   "cell_type": "code",
   "execution_count": 4,
   "metadata": {},
   "outputs": [],
   "source": [
    "def get_data(week_nums):\n",
    "    url = \"http://web.mta.info/developers/data/nyct/turnstile/turnstile_{}.txt\"\n",
    "    dfs = []\n",
    "    for week_num in week_nums:\n",
    "        file_url = url.format(week_num)\n",
    "        dfs.append(pd.read_csv(file_url))\n",
    "    return pd.concat(dfs)"
   ]
  },
  {
   "cell_type": "code",
   "execution_count": 5,
   "metadata": {},
   "outputs": [],
   "source": [
    "df3 = get_data([210327,210320,210313,210306])\n",
    "df6 = get_data([210626,210619,210612,210605])\n",
    "df8 = get_data([210828,210821,210814,210807])"
   ]
  },
  {
   "cell_type": "code",
   "execution_count": 6,
   "metadata": {},
   "outputs": [],
   "source": [
    "df6[\"month\"]=6\n",
    "df3[\"month\"]=3\n",
    "df8[\"month\"]=8"
   ]
  },
  {
   "cell_type": "code",
   "execution_count": 7,
   "metadata": {},
   "outputs": [
    {
     "data": {
      "text/html": [
       "<div>\n",
       "<style scoped>\n",
       "    .dataframe tbody tr th:only-of-type {\n",
       "        vertical-align: middle;\n",
       "    }\n",
       "\n",
       "    .dataframe tbody tr th {\n",
       "        vertical-align: top;\n",
       "    }\n",
       "\n",
       "    .dataframe thead th {\n",
       "        text-align: right;\n",
       "    }\n",
       "</style>\n",
       "<table border=\"1\" class=\"dataframe\">\n",
       "  <thead>\n",
       "    <tr style=\"text-align: right;\">\n",
       "      <th></th>\n",
       "      <th>C/A</th>\n",
       "      <th>UNIT</th>\n",
       "      <th>SCP</th>\n",
       "      <th>STATION</th>\n",
       "      <th>LINENAME</th>\n",
       "      <th>DIVISION</th>\n",
       "      <th>DATE</th>\n",
       "      <th>TIME</th>\n",
       "      <th>DESC</th>\n",
       "      <th>ENTRIES</th>\n",
       "      <th>EXITS</th>\n",
       "      <th>month</th>\n",
       "    </tr>\n",
       "  </thead>\n",
       "  <tbody>\n",
       "    <tr>\n",
       "      <td>205704</td>\n",
       "      <td>R644</td>\n",
       "      <td>R135</td>\n",
       "      <td>01-06-01</td>\n",
       "      <td>NEWKIRK AV</td>\n",
       "      <td>25</td>\n",
       "      <td>IRT</td>\n",
       "      <td>08/11/2021</td>\n",
       "      <td>17:00:00</td>\n",
       "      <td>REGULAR</td>\n",
       "      <td>603600</td>\n",
       "      <td>10775424</td>\n",
       "      <td>8</td>\n",
       "    </tr>\n",
       "    <tr>\n",
       "      <td>82120</td>\n",
       "      <td>N312</td>\n",
       "      <td>R339</td>\n",
       "      <td>00-00-00</td>\n",
       "      <td>36 ST</td>\n",
       "      <td>MR</td>\n",
       "      <td>IND</td>\n",
       "      <td>03/13/2021</td>\n",
       "      <td>16:00:00</td>\n",
       "      <td>REGULAR</td>\n",
       "      <td>997055</td>\n",
       "      <td>1035898</td>\n",
       "      <td>3</td>\n",
       "    </tr>\n",
       "    <tr>\n",
       "      <td>173219</td>\n",
       "      <td>R293</td>\n",
       "      <td>R133</td>\n",
       "      <td>00-00-04</td>\n",
       "      <td>MOSHOLU PKWY</td>\n",
       "      <td>4</td>\n",
       "      <td>IRT</td>\n",
       "      <td>08/23/2021</td>\n",
       "      <td>21:00:00</td>\n",
       "      <td>REGULAR</td>\n",
       "      <td>5611444</td>\n",
       "      <td>3772507</td>\n",
       "      <td>8</td>\n",
       "    </tr>\n",
       "    <tr>\n",
       "      <td>206324</td>\n",
       "      <td>R647</td>\n",
       "      <td>R110</td>\n",
       "      <td>02-05-02</td>\n",
       "      <td>FLATBUSH AV-B.C</td>\n",
       "      <td>25</td>\n",
       "      <td>IRT</td>\n",
       "      <td>03/02/2021</td>\n",
       "      <td>12:00:00</td>\n",
       "      <td>REGULAR</td>\n",
       "      <td>178111</td>\n",
       "      <td>2580454</td>\n",
       "      <td>3</td>\n",
       "    </tr>\n",
       "    <tr>\n",
       "      <td>29476</td>\n",
       "      <td>E009</td>\n",
       "      <td>R370</td>\n",
       "      <td>00-00-02</td>\n",
       "      <td>71 ST</td>\n",
       "      <td>D</td>\n",
       "      <td>BMT</td>\n",
       "      <td>06/15/2021</td>\n",
       "      <td>04:00:00</td>\n",
       "      <td>REGULAR</td>\n",
       "      <td>9976959</td>\n",
       "      <td>2456488</td>\n",
       "      <td>6</td>\n",
       "    </tr>\n",
       "    <tr>\n",
       "      <td>186919</td>\n",
       "      <td>R509</td>\n",
       "      <td>R121</td>\n",
       "      <td>00-00-04</td>\n",
       "      <td>QUEENSBORO PLZ</td>\n",
       "      <td>7NQW</td>\n",
       "      <td>IRT</td>\n",
       "      <td>03/21/2021</td>\n",
       "      <td>08:00:00</td>\n",
       "      <td>REGULAR</td>\n",
       "      <td>1065290</td>\n",
       "      <td>236563</td>\n",
       "      <td>3</td>\n",
       "    </tr>\n",
       "    <tr>\n",
       "      <td>201129</td>\n",
       "      <td>R618</td>\n",
       "      <td>R058</td>\n",
       "      <td>01-00-01</td>\n",
       "      <td>BERGEN ST</td>\n",
       "      <td>23</td>\n",
       "      <td>IRT</td>\n",
       "      <td>06/08/2021</td>\n",
       "      <td>20:00:00</td>\n",
       "      <td>REGULAR</td>\n",
       "      <td>1425813</td>\n",
       "      <td>2066736</td>\n",
       "      <td>6</td>\n",
       "    </tr>\n",
       "    <tr>\n",
       "      <td>155254</td>\n",
       "      <td>R210A</td>\n",
       "      <td>R044</td>\n",
       "      <td>03-06-00</td>\n",
       "      <td>BROOKLYN BRIDGE</td>\n",
       "      <td>456JZ</td>\n",
       "      <td>IRT</td>\n",
       "      <td>03/05/2021</td>\n",
       "      <td>03:00:00</td>\n",
       "      <td>REGULAR</td>\n",
       "      <td>19421</td>\n",
       "      <td>20777</td>\n",
       "      <td>3</td>\n",
       "    </tr>\n",
       "    <tr>\n",
       "      <td>206080</td>\n",
       "      <td>S101A</td>\n",
       "      <td>R070</td>\n",
       "      <td>01-00-05</td>\n",
       "      <td>ST. GEORGE</td>\n",
       "      <td>1</td>\n",
       "      <td>SRT</td>\n",
       "      <td>03/17/2021</td>\n",
       "      <td>16:00:00</td>\n",
       "      <td>REGULAR</td>\n",
       "      <td>376025</td>\n",
       "      <td>69</td>\n",
       "      <td>3</td>\n",
       "    </tr>\n",
       "    <tr>\n",
       "      <td>207</td>\n",
       "      <td>A002</td>\n",
       "      <td>R051</td>\n",
       "      <td>02-03-02</td>\n",
       "      <td>59 ST</td>\n",
       "      <td>NQR456W</td>\n",
       "      <td>BMT</td>\n",
       "      <td>08/20/2021</td>\n",
       "      <td>12:00:00</td>\n",
       "      <td>REGULAR</td>\n",
       "      <td>62021</td>\n",
       "      <td>86746</td>\n",
       "      <td>8</td>\n",
       "    </tr>\n",
       "  </tbody>\n",
       "</table>\n",
       "</div>"
      ],
      "text/plain": [
       "          C/A  UNIT       SCP          STATION LINENAME DIVISION        DATE  \\\n",
       "205704   R644  R135  01-06-01       NEWKIRK AV       25      IRT  08/11/2021   \n",
       "82120    N312  R339  00-00-00            36 ST       MR      IND  03/13/2021   \n",
       "173219   R293  R133  00-00-04     MOSHOLU PKWY        4      IRT  08/23/2021   \n",
       "206324   R647  R110  02-05-02  FLATBUSH AV-B.C       25      IRT  03/02/2021   \n",
       "29476    E009  R370  00-00-02            71 ST        D      BMT  06/15/2021   \n",
       "186919   R509  R121  00-00-04   QUEENSBORO PLZ     7NQW      IRT  03/21/2021   \n",
       "201129   R618  R058  01-00-01        BERGEN ST       23      IRT  06/08/2021   \n",
       "155254  R210A  R044  03-06-00  BROOKLYN BRIDGE    456JZ      IRT  03/05/2021   \n",
       "206080  S101A  R070  01-00-05       ST. GEORGE        1      SRT  03/17/2021   \n",
       "207      A002  R051  02-03-02            59 ST  NQR456W      BMT  08/20/2021   \n",
       "\n",
       "            TIME     DESC  ENTRIES  \\\n",
       "205704  17:00:00  REGULAR   603600   \n",
       "82120   16:00:00  REGULAR   997055   \n",
       "173219  21:00:00  REGULAR  5611444   \n",
       "206324  12:00:00  REGULAR   178111   \n",
       "29476   04:00:00  REGULAR  9976959   \n",
       "186919  08:00:00  REGULAR  1065290   \n",
       "201129  20:00:00  REGULAR  1425813   \n",
       "155254  03:00:00  REGULAR    19421   \n",
       "206080  16:00:00  REGULAR   376025   \n",
       "207     12:00:00  REGULAR    62021   \n",
       "\n",
       "        EXITS                                                                 \\\n",
       "205704                                           10775424                      \n",
       "82120                                             1035898                      \n",
       "173219                                            3772507                      \n",
       "206324                                            2580454                      \n",
       "29476                                             2456488                      \n",
       "186919                                             236563                      \n",
       "201129                                            2066736                      \n",
       "155254                                              20777                      \n",
       "206080                                                 69                      \n",
       "207                                                 86746                      \n",
       "\n",
       "        month  \n",
       "205704      8  \n",
       "82120       3  \n",
       "173219      8  \n",
       "206324      3  \n",
       "29476       6  \n",
       "186919      3  \n",
       "201129      6  \n",
       "155254      3  \n",
       "206080      3  \n",
       "207         8  "
      ]
     },
     "execution_count": 7,
     "metadata": {},
     "output_type": "execute_result"
    }
   ],
   "source": [
    "frames = [df6,df3,df8]\n",
    "df = pd.concat(frames)\n",
    "df.sample(10)"
   ]
  },
  {
   "cell_type": "markdown",
   "metadata": {},
   "source": [
    "## Data pre-processing "
   ]
  },
  {
   "cell_type": "code",
   "execution_count": 8,
   "metadata": {},
   "outputs": [
    {
     "data": {
      "text/plain": [
       "C/A                                                                     0\n",
       "UNIT                                                                    0\n",
       "SCP                                                                     0\n",
       "STATION                                                                 0\n",
       "LINENAME                                                                0\n",
       "DIVISION                                                                0\n",
       "DATE                                                                    0\n",
       "TIME                                                                    0\n",
       "DESC                                                                    0\n",
       "ENTRIES                                                                 0\n",
       "EXITS                                                                   0\n",
       "month                                                                   0\n",
       "dtype: int64"
      ]
     },
     "execution_count": 8,
     "metadata": {},
     "output_type": "execute_result"
    }
   ],
   "source": [
    "df.isna().sum()"
   ]
  },
  {
   "cell_type": "code",
   "execution_count": 9,
   "metadata": {},
   "outputs": [],
   "source": [
    "df.drop_duplicates(inplace=True)"
   ]
  },
  {
   "cell_type": "code",
   "execution_count": 10,
   "metadata": {},
   "outputs": [],
   "source": [
    "df['turnstile'] = df['C/A'] + '-' + df['UNIT'] + '-' + df['SCP']"
   ]
  },
  {
   "cell_type": "code",
   "execution_count": 11,
   "metadata": {},
   "outputs": [],
   "source": [
    "df.columns=df.columns.str.strip()"
   ]
  },
  {
   "cell_type": "code",
   "execution_count": 12,
   "metadata": {},
   "outputs": [
    {
     "data": {
      "text/plain": [
       "0         02-00-00\n",
       "1         02-00-00\n",
       "2         02-00-00\n",
       "3         02-00-00\n",
       "4         02-00-00\n",
       "            ...   \n",
       "209497    00-05-01\n",
       "209498    00-05-01\n",
       "209499    00-05-01\n",
       "209500    00-05-01\n",
       "209501    00-05-01\n",
       "Name: SCP, Length: 2509853, dtype: object"
      ]
     },
     "execution_count": 12,
     "metadata": {},
     "output_type": "execute_result"
    }
   ],
   "source": [
    "df.SCP.str.replace(\"/\",'-')"
   ]
  },
  {
   "cell_type": "markdown",
   "metadata": {},
   "source": [
    "#### Finding Daily entries, Daily exits and traffic based on turnstile:"
   ]
  },
  {
   "cell_type": "code",
   "execution_count": 13,
   "metadata": {},
   "outputs": [
    {
     "data": {
      "text/html": [
       "<div>\n",
       "<style scoped>\n",
       "    .dataframe tbody tr th:only-of-type {\n",
       "        vertical-align: middle;\n",
       "    }\n",
       "\n",
       "    .dataframe tbody tr th {\n",
       "        vertical-align: top;\n",
       "    }\n",
       "\n",
       "    .dataframe thead th {\n",
       "        text-align: right;\n",
       "    }\n",
       "</style>\n",
       "<table border=\"1\" class=\"dataframe\">\n",
       "  <thead>\n",
       "    <tr style=\"text-align: right;\">\n",
       "      <th></th>\n",
       "      <th>C/A</th>\n",
       "      <th>UNIT</th>\n",
       "      <th>SCP</th>\n",
       "      <th>STATION</th>\n",
       "      <th>DATE</th>\n",
       "      <th>ENTRIES</th>\n",
       "      <th>EXITS</th>\n",
       "      <th>month</th>\n",
       "      <th>turnstile</th>\n",
       "      <th>LINENAME</th>\n",
       "      <th>TIME</th>\n",
       "    </tr>\n",
       "  </thead>\n",
       "  <tbody>\n",
       "    <tr>\n",
       "      <td>317763</td>\n",
       "      <td>R228</td>\n",
       "      <td>R143</td>\n",
       "      <td>00-00-01</td>\n",
       "      <td>28 ST</td>\n",
       "      <td>06/15/2021</td>\n",
       "      <td>299027</td>\n",
       "      <td>366739</td>\n",
       "      <td>6</td>\n",
       "      <td>R228-R143-00-00-01</td>\n",
       "      <td>6</td>\n",
       "      <td>01:00:00</td>\n",
       "    </tr>\n",
       "    <tr>\n",
       "      <td>201820</td>\n",
       "      <td>N506</td>\n",
       "      <td>R022</td>\n",
       "      <td>00-03-02</td>\n",
       "      <td>34 ST-HERALD SQ</td>\n",
       "      <td>06/11/2021</td>\n",
       "      <td>800955</td>\n",
       "      <td>873542</td>\n",
       "      <td>6</td>\n",
       "      <td>N506-R022-00-03-02</td>\n",
       "      <td>BDFMNQRW</td>\n",
       "      <td>00:00:00</td>\n",
       "    </tr>\n",
       "    <tr>\n",
       "      <td>109898</td>\n",
       "      <td>N063A</td>\n",
       "      <td>R011</td>\n",
       "      <td>00-00-02</td>\n",
       "      <td>42 ST-PORT AUTH</td>\n",
       "      <td>03/23/2021</td>\n",
       "      <td>242132043</td>\n",
       "      <td>224934845</td>\n",
       "      <td>3</td>\n",
       "      <td>N063A-R011-00-00-02</td>\n",
       "      <td>ACENQRS1237W</td>\n",
       "      <td>00:00:00</td>\n",
       "    </tr>\n",
       "    <tr>\n",
       "      <td>94651</td>\n",
       "      <td>N016A</td>\n",
       "      <td>R296</td>\n",
       "      <td>00-00-03</td>\n",
       "      <td>163 ST-AMSTERDM</td>\n",
       "      <td>05/30/2021</td>\n",
       "      <td>301537</td>\n",
       "      <td>404802</td>\n",
       "      <td>6</td>\n",
       "      <td>N016A-R296-00-00-03</td>\n",
       "      <td>C</td>\n",
       "      <td>01:00:00</td>\n",
       "    </tr>\n",
       "    <tr>\n",
       "      <td>174605</td>\n",
       "      <td>N330</td>\n",
       "      <td>R202</td>\n",
       "      <td>00-00-00</td>\n",
       "      <td>63 DR-REGO PARK</td>\n",
       "      <td>06/05/2021</td>\n",
       "      <td>7609782</td>\n",
       "      <td>6863385</td>\n",
       "      <td>6</td>\n",
       "      <td>N330-R202-00-00-00</td>\n",
       "      <td>MR</td>\n",
       "      <td>00:00:00</td>\n",
       "    </tr>\n",
       "    <tr>\n",
       "      <td>24037</td>\n",
       "      <td>A069</td>\n",
       "      <td>R044</td>\n",
       "      <td>01-00-01</td>\n",
       "      <td>CHAMBERS ST</td>\n",
       "      <td>07/31/2021</td>\n",
       "      <td>130444</td>\n",
       "      <td>274755</td>\n",
       "      <td>8</td>\n",
       "      <td>A069-R044-01-00-01</td>\n",
       "      <td>JZ456</td>\n",
       "      <td>00:00:00</td>\n",
       "    </tr>\n",
       "    <tr>\n",
       "      <td>281164</td>\n",
       "      <td>R141</td>\n",
       "      <td>R031</td>\n",
       "      <td>00-03-00</td>\n",
       "      <td>34 ST-PENN STA</td>\n",
       "      <td>08/21/2021</td>\n",
       "      <td>2249727</td>\n",
       "      <td>1938527</td>\n",
       "      <td>8</td>\n",
       "      <td>R141-R031-00-03-00</td>\n",
       "      <td>123</td>\n",
       "      <td>00:00:00</td>\n",
       "    </tr>\n",
       "    <tr>\n",
       "      <td>95002</td>\n",
       "      <td>N016A</td>\n",
       "      <td>R296</td>\n",
       "      <td>00-03-03</td>\n",
       "      <td>163 ST-AMSTERDM</td>\n",
       "      <td>06/14/2021</td>\n",
       "      <td>777503</td>\n",
       "      <td>248143</td>\n",
       "      <td>6</td>\n",
       "      <td>N016A-R296-00-03-03</td>\n",
       "      <td>C</td>\n",
       "      <td>01:00:00</td>\n",
       "    </tr>\n",
       "    <tr>\n",
       "      <td>232762</td>\n",
       "      <td>N702</td>\n",
       "      <td>R572</td>\n",
       "      <td>00-00-02</td>\n",
       "      <td>96 ST-2 AVE</td>\n",
       "      <td>03/03/2021</td>\n",
       "      <td>35998</td>\n",
       "      <td>19087</td>\n",
       "      <td>3</td>\n",
       "      <td>N702-R572-00-00-02</td>\n",
       "      <td>Q</td>\n",
       "      <td>00:00:00</td>\n",
       "    </tr>\n",
       "    <tr>\n",
       "      <td>411160</td>\n",
       "      <td>R639</td>\n",
       "      <td>R109</td>\n",
       "      <td>00-05-01</td>\n",
       "      <td>CHURCH AV</td>\n",
       "      <td>05/29/2021</td>\n",
       "      <td>7</td>\n",
       "      <td>1312</td>\n",
       "      <td>6</td>\n",
       "      <td>R639-R109-00-05-01</td>\n",
       "      <td>25</td>\n",
       "      <td>01:00:00</td>\n",
       "    </tr>\n",
       "  </tbody>\n",
       "</table>\n",
       "</div>"
      ],
      "text/plain": [
       "          C/A  UNIT       SCP          STATION        DATE    ENTRIES  \\\n",
       "317763   R228  R143  00-00-01            28 ST  06/15/2021     299027   \n",
       "201820   N506  R022  00-03-02  34 ST-HERALD SQ  06/11/2021     800955   \n",
       "109898  N063A  R011  00-00-02  42 ST-PORT AUTH  03/23/2021  242132043   \n",
       "94651   N016A  R296  00-00-03  163 ST-AMSTERDM  05/30/2021     301537   \n",
       "174605   N330  R202  00-00-00  63 DR-REGO PARK  06/05/2021    7609782   \n",
       "24037    A069  R044  01-00-01      CHAMBERS ST  07/31/2021     130444   \n",
       "281164   R141  R031  00-03-00   34 ST-PENN STA  08/21/2021    2249727   \n",
       "95002   N016A  R296  00-03-03  163 ST-AMSTERDM  06/14/2021     777503   \n",
       "232762   N702  R572  00-00-02      96 ST-2 AVE  03/03/2021      35998   \n",
       "411160   R639  R109  00-05-01        CHURCH AV  05/29/2021          7   \n",
       "\n",
       "            EXITS  month            turnstile      LINENAME      TIME  \n",
       "317763     366739      6   R228-R143-00-00-01             6  01:00:00  \n",
       "201820     873542      6   N506-R022-00-03-02      BDFMNQRW  00:00:00  \n",
       "109898  224934845      3  N063A-R011-00-00-02  ACENQRS1237W  00:00:00  \n",
       "94651      404802      6  N016A-R296-00-00-03             C  01:00:00  \n",
       "174605    6863385      6   N330-R202-00-00-00            MR  00:00:00  \n",
       "24037      274755      8   A069-R044-01-00-01         JZ456  00:00:00  \n",
       "281164    1938527      8   R141-R031-00-03-00           123  00:00:00  \n",
       "95002      248143      6  N016A-R296-00-03-03             C  01:00:00  \n",
       "232762      19087      3   N702-R572-00-00-02             Q  00:00:00  \n",
       "411160       1312      6   R639-R109-00-05-01            25  01:00:00  "
      ]
     },
     "execution_count": 13,
     "metadata": {},
     "output_type": "execute_result"
    }
   ],
   "source": [
    "turnstiles_daily = (df.groupby([\"C/A\", \"UNIT\", \"SCP\", \"STATION\", \"DATE\"],as_index=False)\n",
    "                        [[\"ENTRIES\",\"EXITS\",\"month\",\"turnstile\",\"LINENAME\",\"TIME\"]].first())\n",
    "turnstiles_daily.sample(10)"
   ]
  },
  {
   "cell_type": "code",
   "execution_count": 14,
   "metadata": {},
   "outputs": [],
   "source": [
    "turnstiles_daily[\"DAILY_ENTRIES\"] = (turnstiles_daily.groupby([\"C/A\", \"UNIT\", \"SCP\", \"STATION\"])[[\"ENTRIES\"]].diff())\n",
    "turnstiles_daily.dropna(subset=[\"DAILY_ENTRIES\"], axis=0, inplace = True)\n",
    "turnstiles_daily.drop(turnstiles_daily[turnstiles_daily.DAILY_ENTRIES <0].index,inplace = True)\n",
    "\n",
    "turnstiles_daily[\"DAILY_EXITS\"] = (turnstiles_daily.groupby([\"C/A\", \"UNIT\", \"SCP\", \"STATION\"])[[\"EXITS\"]].diff())\n",
    "turnstiles_daily.drop(turnstiles_daily[turnstiles_daily.DAILY_EXITS <0].index,inplace = True)\n",
    "turnstiles_daily.dropna(subset=[\"DAILY_EXITS\"], axis=0, inplace = True)"
   ]
  },
  {
   "cell_type": "code",
   "execution_count": 15,
   "metadata": {},
   "outputs": [],
   "source": [
    "turnstiles_daily[\"TRAFFIC\"] = turnstiles_daily[\"DAILY_ENTRIES\"] + turnstiles_daily[\"DAILY_EXITS\"]"
   ]
  },
  {
   "cell_type": "markdown",
   "metadata": {},
   "source": [
    "#### Create a new column for the days of the week:"
   ]
  },
  {
   "cell_type": "code",
   "execution_count": 16,
   "metadata": {},
   "outputs": [],
   "source": [
    "turnstiles_daily['DATETIME'] = turnstiles_daily[\"DATE\"]+ \" \" + turnstiles_daily[\"TIME\"]\n",
    "turnstiles_daily['DATETIME'] = pd.to_datetime(turnstiles_daily['DATETIME'], format='%m/%d/%Y %H:%M:%S')\n",
    "turnstiles_daily[\"NAMEOFDAY\"]= turnstiles_daily[\"DATETIME\"].dt.day_name()"
   ]
  },
  {
   "cell_type": "code",
   "execution_count": 17,
   "metadata": {},
   "outputs": [
    {
     "data": {
      "text/plain": [
       "month\n",
       "3      565.880481\n",
       "6    42749.411803\n",
       "8     1181.983840\n",
       "Name: DAILY_ENTRIES, dtype: float64"
      ]
     },
     "execution_count": 17,
     "metadata": {},
     "output_type": "execute_result"
    }
   ],
   "source": [
    "turnstiles_daily.groupby(\"month\").DAILY_ENTRIES.mean()"
   ]
  },
  {
   "cell_type": "markdown",
   "metadata": {},
   "source": [
    "#### Finding top 7 busiest stations based on traffic:"
   ]
  },
  {
   "cell_type": "code",
   "execution_count": 18,
   "metadata": {},
   "outputs": [
    {
     "data": {
      "text/html": [
       "<div>\n",
       "<style scoped>\n",
       "    .dataframe tbody tr th:only-of-type {\n",
       "        vertical-align: middle;\n",
       "    }\n",
       "\n",
       "    .dataframe tbody tr th {\n",
       "        vertical-align: top;\n",
       "    }\n",
       "\n",
       "    .dataframe thead th {\n",
       "        text-align: right;\n",
       "    }\n",
       "</style>\n",
       "<table border=\"1\" class=\"dataframe\">\n",
       "  <thead>\n",
       "    <tr style=\"text-align: right;\">\n",
       "      <th></th>\n",
       "      <th>STATION</th>\n",
       "      <th>TRAFFIC</th>\n",
       "    </tr>\n",
       "  </thead>\n",
       "  <tbody>\n",
       "    <tr>\n",
       "      <td>0</td>\n",
       "      <td>125 ST</td>\n",
       "      <td>3.051509e+09</td>\n",
       "    </tr>\n",
       "    <tr>\n",
       "      <td>1</td>\n",
       "      <td>HEWES ST</td>\n",
       "      <td>2.807861e+09</td>\n",
       "    </tr>\n",
       "    <tr>\n",
       "      <td>2</td>\n",
       "      <td>HUNTS POINT AV</td>\n",
       "      <td>2.316701e+09</td>\n",
       "    </tr>\n",
       "    <tr>\n",
       "      <td>3</td>\n",
       "      <td>FORDHAM RD</td>\n",
       "      <td>1.840888e+09</td>\n",
       "    </tr>\n",
       "    <tr>\n",
       "      <td>4</td>\n",
       "      <td>MORISN AV/SNDVW</td>\n",
       "      <td>1.705756e+09</td>\n",
       "    </tr>\n",
       "    <tr>\n",
       "      <td>5</td>\n",
       "      <td>WORLD TRADE CTR</td>\n",
       "      <td>7.979482e+08</td>\n",
       "    </tr>\n",
       "    <tr>\n",
       "      <td>6</td>\n",
       "      <td>96 ST-2 AVE</td>\n",
       "      <td>6.894789e+08</td>\n",
       "    </tr>\n",
       "  </tbody>\n",
       "</table>\n",
       "</div>"
      ],
      "text/plain": [
       "           STATION       TRAFFIC\n",
       "0           125 ST  3.051509e+09\n",
       "1         HEWES ST  2.807861e+09\n",
       "2   HUNTS POINT AV  2.316701e+09\n",
       "3       FORDHAM RD  1.840888e+09\n",
       "4  MORISN AV/SNDVW  1.705756e+09\n",
       "5  WORLD TRADE CTR  7.979482e+08\n",
       "6      96 ST-2 AVE  6.894789e+08"
      ]
     },
     "execution_count": 18,
     "metadata": {},
     "output_type": "execute_result"
    }
   ],
   "source": [
    "mta_top7 = turnstiles_daily.groupby(\"STATION\").TRAFFIC.sum().sort_values(ascending=False).head(7)\n",
    "mta_top7 = mta_top7.reset_index()\n",
    "mta_top7 "
   ]
  },
  {
   "cell_type": "code",
   "execution_count": 21,
   "metadata": {},
   "outputs": [
    {
     "data": {
      "image/png": "[encoded data removed]",
      "text/plain": [
       "<Figure size 648x432 with 1 Axes>"
      ]
     },
     "metadata": {
      "needs_background": "light"
     },
     "output_type": "display_data"
    }
   ],
   "source": [
    "plt.figure(figsize=(9,6)),\n",
    "plt.bar(x=\"STATION\", height=\"TRAFFIC\", data=mta_top7)\n",
    "plt.title(\"Top 7 Busiest Stations\", weight=\"bold\",fontsize=15)\n",
    "plt.xlabel(\"STATION\",weight=\"bold\",c=\"k\")\n",
    "plt.xticks(rotation=45, weight=\"bold\")\n",
    "plt.ylabel(\"Total Traffic)\",weight= \"bold\",c=\"k\")\n",
    "plt.yticks(weight=\"bold\")\n",
    "plt.show()"
   ]
  },
  {
   "cell_type": "markdown",
   "metadata": {},
   "source": [
    "Through this Bar plot, it becomes clear to us that the (125 ST) station is the most crowded station during the month of March and June, August, and from here we can determine the prices of advertising screens according to the busiest station"
   ]
  },
  {
   "cell_type": "markdown",
   "metadata": {},
   "source": [
    "#### Finding total traffic based on days: "
   ]
  },
  {
   "cell_type": "code",
   "execution_count": 22,
   "metadata": {},
   "outputs": [
    {
     "data": {
      "text/html": [
       "<div>\n",
       "<style scoped>\n",
       "    .dataframe tbody tr th:only-of-type {\n",
       "        vertical-align: middle;\n",
       "    }\n",
       "\n",
       "    .dataframe tbody tr th {\n",
       "        vertical-align: top;\n",
       "    }\n",
       "\n",
       "    .dataframe thead th {\n",
       "        text-align: right;\n",
       "    }\n",
       "</style>\n",
       "<table border=\"1\" class=\"dataframe\">\n",
       "  <thead>\n",
       "    <tr style=\"text-align: right;\">\n",
       "      <th></th>\n",
       "      <th>NAMEOFDAY</th>\n",
       "      <th>TRAFFIC</th>\n",
       "    </tr>\n",
       "  </thead>\n",
       "  <tbody>\n",
       "    <tr>\n",
       "      <td>0</td>\n",
       "      <td>Saturday</td>\n",
       "      <td>1.055752e+10</td>\n",
       "    </tr>\n",
       "    <tr>\n",
       "      <td>1</td>\n",
       "      <td>Tuesday</td>\n",
       "      <td>2.534987e+09</td>\n",
       "    </tr>\n",
       "    <tr>\n",
       "      <td>2</td>\n",
       "      <td>Friday</td>\n",
       "      <td>8.556627e+08</td>\n",
       "    </tr>\n",
       "    <tr>\n",
       "      <td>3</td>\n",
       "      <td>Wednesday</td>\n",
       "      <td>7.623945e+08</td>\n",
       "    </tr>\n",
       "    <tr>\n",
       "      <td>4</td>\n",
       "      <td>Thursday</td>\n",
       "      <td>4.939116e+07</td>\n",
       "    </tr>\n",
       "    <tr>\n",
       "      <td>5</td>\n",
       "      <td>Sunday</td>\n",
       "      <td>3.205250e+07</td>\n",
       "    </tr>\n",
       "    <tr>\n",
       "      <td>6</td>\n",
       "      <td>Monday</td>\n",
       "      <td>2.540278e+07</td>\n",
       "    </tr>\n",
       "  </tbody>\n",
       "</table>\n",
       "</div>"
      ],
      "text/plain": [
       "   NAMEOFDAY       TRAFFIC\n",
       "0   Saturday  1.055752e+10\n",
       "1    Tuesday  2.534987e+09\n",
       "2     Friday  8.556627e+08\n",
       "3  Wednesday  7.623945e+08\n",
       "4   Thursday  4.939116e+07\n",
       "5     Sunday  3.205250e+07\n",
       "6     Monday  2.540278e+07"
      ]
     },
     "execution_count": 22,
     "metadata": {},
     "output_type": "execute_result"
    }
   ],
   "source": [
    "mta_busiest_day = turnstiles_daily.groupby(\"NAMEOFDAY\").TRAFFIC.sum().sort_values(ascending=False)\n",
    "mta_busiest_day = mta_busiest_day.reset_index()\n",
    "mta_busiest_day"
   ]
  },
  {
   "cell_type": "code",
   "execution_count": 26,
   "metadata": {},
   "outputs": [
    {
     "data": {
      "image/png": "[encoded data removed]",
      "text/plain": [
       "<Figure size 648x432 with 1 Axes>"
      ]
     },
     "metadata": {
      "needs_background": "light"
     },
     "output_type": "display_data"
    }
   ],
   "source": [
    "plt.figure(figsize=(9,6)),\n",
    "plt.bar(x=\"NAMEOFDAY\", height=\"TRAFFIC\", data=mta_busiest_day)\n",
    "plt.title(\"Total Traffic Based on Days of Week\", weight=\"bold\",fontsize=15)\n",
    "plt.ylabel(\"Total Traffic\",weight= \"bold\")\n",
    "plt.yticks(weight=\"bold\")\n",
    "plt.xticks(rotation=45,weight=\"bold\")\n",
    "plt.show()"
   ]
  },
  {
   "cell_type": "markdown",
   "metadata": {},
   "source": [
    "The bar blot shows the traffic according to the days of the week, and it turns out that Saturday is the most traffic day of the week. This graph may serve our problem in determining the advertising price according to the day of the show."
   ]
  }
 ],
 "metadata": {
  "kernelspec": {
   "display_name": "Python 3",
   "language": "python",
   "name": "python3"
  },
  "language_info": {
   "codemirror_mode": {
    "name": "ipython",
    "version": 3
   },
   "file_extension": ".py",
   "mimetype": "text/x-python",
   "name": "python",
   "nbconvert_exporter": "python",
   "pygments_lexer": "ipython3",
   "version": "3.7.4"
  }
 },
 "nbformat": 4,
 "nbformat_minor": 2
}
